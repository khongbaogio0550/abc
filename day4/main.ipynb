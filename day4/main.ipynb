{
 "cells": [
  {
   "cell_type": "markdown",
   "id": "56a56616-e506-43fb-8b7d-47d9a4c57e22",
   "metadata": {},
   "source": [
    "## Tên: Nguyễn Thị Bảo Trang\n",
    "## MSSV: 31231025351\n",
    "# Bài tập buổi 4\n",
    "### Bài 1:"
   ]
  },
  {
   "cell_type": "code",
   "execution_count": 10,
   "id": "96a89062-4519-46c6-a8bb-7d0d4a976cf4",
   "metadata": {},
   "outputs": [
    {
     "name": "stdout",
     "output_type": "stream",
     "text": [
      "Writing bai2.in0\n"
     ]
    }
   ],
   "source": [
    "%%writefile bai2.in0\n",
    "5"
   ]
  },
  {
   "cell_type": "code",
   "execution_count": 13,
   "id": "b34b8e16-ceaf-43df-bda7-ed9ec13c8ff9",
   "metadata": {},
   "outputs": [
    {
     "name": "stdout",
     "output_type": "stream",
     "text": [
      "Overwriting bai2.in1\n"
     ]
    }
   ],
   "source": [
    "%%writefile bai2.in1\n",
    "6"
   ]
  },
  {
   "cell_type": "code",
   "execution_count": 14,
   "id": "b523f8df-7e04-4818-9e7b-b85cea07af4e",
   "metadata": {},
   "outputs": [
    {
     "name": "stdout",
     "output_type": "stream",
     "text": [
      "Overwriting bai2.in2\n"
     ]
    }
   ],
   "source": [
    "%%writefile bai2.in2\n",
    "7"
   ]
  },
  {
   "cell_type": "code",
   "execution_count": 15,
   "id": "52cc2c1e-d618-4b88-914f-aaa53efee448",
   "metadata": {},
   "outputs": [
    {
     "name": "stdout",
     "output_type": "stream",
     "text": [
      "Writing bai2.in3\n"
     ]
    }
   ],
   "source": [
    "%%writefile bai2.in3\n",
    "8"
   ]
  },
  {
   "cell_type": "code",
   "execution_count": 16,
   "id": "a113523e-0b4c-4fa7-b337-741b059eba58",
   "metadata": {},
   "outputs": [
    {
     "name": "stderr",
     "output_type": "stream",
     "text": [
      "Traceback (most recent call last):\n",
      "  File \"C:\\BTrang\\UEH\\HK2\\Lap trinh can ban\\Codes\\day4\\bai2.py\", line 32, in <module>\n",
      "    n = int(input(\"Nh\\u1eadp m\\u1ed9t s\\u1ed1 nguyên d\\u01b0\\u01a1ng n: \"))\n",
      "            ^^^^^^^^^^^^^^^^^^^^^^^^^^^^^^^^^^^^^\n",
      "  File \"C:\\Users\\laptop\\AppData\\Local\\Programs\\Python\\Python311\\Lib\\encodings\\cp1252.py\", line 19, in encode\n",
      "    return codecs.charmap_encode(input,self.errors,encoding_table)[0]\n",
      "           ^^^^^^^^^^^^^^^^^^^^^^^^^^^^^^^^^^^^^^^^^^^^^^^^^^^^^^^\n",
      "UnicodeEncodeError: 'charmap' codec can't encode character '\\u1ead' in position 2: character maps to <undefined>\n"
     ]
    }
   ],
   "source": [
    "!python bai2.py < bai2.in0"
   ]
  },
  {
   "cell_type": "code",
   "execution_count": null,
   "id": "b4e94adf-66e9-49af-9aba-7957cf1d95b8",
   "metadata": {},
   "outputs": [],
   "source": []
  }
 ],
 "metadata": {
  "kernelspec": {
   "display_name": "Python 3 (ipykernel)",
   "language": "python",
   "name": "python3"
  },
  "language_info": {
   "codemirror_mode": {
    "name": "ipython",
    "version": 3
   },
   "file_extension": ".py",
   "mimetype": "text/x-python",
   "name": "python",
   "nbconvert_exporter": "python",
   "pygments_lexer": "ipython3",
   "version": "3.11.6"
  }
 },
 "nbformat": 4,
 "nbformat_minor": 5
}
